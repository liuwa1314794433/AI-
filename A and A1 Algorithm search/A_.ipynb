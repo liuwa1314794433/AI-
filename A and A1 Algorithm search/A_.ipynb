{
 "cells": [
  {
   "cell_type": "markdown",
   "metadata": {},
   "source": [
    "# COMM7370 AI Theories and Applications\n",
    "# Search Algorithms\n",
    "\n",
    "## Informed Search\n",
    "Implementation of the basic informed search algorithms using `NetworkX`library"
   ]
  },
  {
   "cell_type": "code",
   "execution_count": null,
   "metadata": {},
   "outputs": [],
   "source": [
    "# Install NetworkX, Matplotlib, Pandas, Numpy using pip package in the current Jupyter kernel\n",
    "import sys\n",
    "!{sys.executable} -m pip install networkx\n",
    "!{sys.executable} -m pip install matplotlib\n",
    "!{sys.executable} -m pip install pandas\n",
    "!{sys.executable} -m pip install numpy"
   ]
  },
  {
   "cell_type": "markdown",
   "metadata": {},
   "source": [
    "Create an undirected graph."
   ]
  },
  {
   "cell_type": "code",
   "execution_count": null,
   "metadata": {},
   "outputs": [],
   "source": [
    "import matplotlib.pyplot as plt\n",
    "%matplotlib inline\n",
    "import warnings\n",
    "warnings.filterwarnings(\"ignore\", category=UserWarning)\n",
    "import math\n",
    "from queue import PriorityQueue\n",
    "\n",
    "import networkx as nx\n",
    "\n",
    "G=nx.Graph()\n",
    "\n",
    "# add nodes with positions\n",
    "G.add_node('S',pos=(0,0))\n",
    "G.add_node('A',pos=(1,2))\n",
    "G.add_node('B',pos=(3,1))\n",
    "G.add_node('C',pos=(5,1))\n",
    "G.add_node('D',pos=(0,3))\n",
    "G.add_node('E',pos=(2,5))\n",
    "G.add_node('F',pos=(3,4))\n",
    "G.add_node('G',pos=(4,2))\n",
    "\n",
    "# adding a list of edges:\n",
    "G.add_edges_from([\n",
    "    ('S','A'),('S','D'),\n",
    "    ('A','D'),('A','B'),\n",
    "    ('B','C'),('B','E'),('B','G'),\n",
    "    ('D','E'),\n",
    "    ('E','F'),\n",
    "    ('F','G')\n",
    "])\n",
    "print(\"Nodes of graph: \")\n",
    "print(G.nodes())\n",
    "print(\"Edges of graph: \")\n",
    "print(G.edges())\n",
    "\n",
    "plt.figure(figsize=(5,5))\n",
    "pos=nx.get_node_attributes(G,'pos')\n",
    "nx.draw_networkx(G, pos);"
   ]
  },
  {
   "cell_type": "markdown",
   "metadata": {},
   "source": [
    "## A* Algorithm\n",
    "### Heuristics\n",
    "1. Manhattan Distance  \n",
    "It is nothing but the sum of absolute values of differences in the goal’s x and y coordinates and the current node’s x and y coordinates respectively, i.e.,\\\n",
    " h = abs (current_node.x – goal.x) + \n",
    "     abs (current_node.y – goal.y) \n",
    "1. Euclidean Distance  \n",
    "As it is clear from its name, it is nothing but the distance between the current cell and the goal cell using the distance formula\\\n",
    " h = sqrt ( (current_node.x – goal.x)^2 + (current_node.y – goal.y)^2 ) "
   ]
  },
  {
   "cell_type": "code",
   "execution_count": null,
   "metadata": {},
   "outputs": [],
   "source": [
    "print(pos)\n",
    "for node in pos:\n",
    "    print(node, pos[node])"
   ]
  },
  {
   "cell_type": "code",
   "execution_count": null,
   "metadata": {},
   "outputs": [],
   "source": [
    "# Heuristic 1: Manhattan Distance \n",
    "def heuristic1(a, b):\n",
    "    (x1, y1) = a\n",
    "    (x2, y2) = b\n",
    "    return abs(x1 - x2) + abs(y1 - y2)\n",
    "\n",
    "# Heuristic 2: Euclidean Distance\n",
    "def heuristic2(a, b):\n",
    "    (x1, y1) = a\n",
    "    (x2, y2) = b\n",
    "    return (math.sqrt((x1-x2)**2 + (y1-y2)**2))"
   ]
  },
  {
   "cell_type": "markdown",
   "metadata": {},
   "source": [
    "### A* search"
   ]
  },
  {
   "cell_type": "code",
   "execution_count": null,
   "metadata": {},
   "outputs": [],
   "source": [
    "def a_star(graph, start, goal):\n",
    "    frontier = PriorityQueue()\n",
    "    frontier.put((0, start))\n",
    "    came_from = {}\n",
    "    cost_so_far = {}\n",
    "    came_from[start] = None\n",
    "    cost_so_far[start] = 0\n",
    "   \n",
    "    # Execute until there are nodes to be visited\n",
    "    while not frontier.empty():\n",
    "        print('Frontier:', frontier.queue)\n",
    "        # Extract a node from the frontier and expand the node\n",
    "        current = frontier.get()[1]\n",
    "        print(current, \" -> \")\n",
    "        \n",
    "        # Goal test\n",
    "        if current == goal:\n",
    "            break\n",
    "        \n",
    "        # Add to frontier\n",
    "        for nextNode in graph.adj[current]:\n",
    "            step_cost = heuristic2(pos[current], pos[nextNode])\n",
    "            new_cost = cost_so_far[current] + step_cost\n",
    "            # Update cost\n",
    "            if nextNode not in cost_so_far or new_cost < cost_so_far[nextNode]:\n",
    "                cost_so_far[nextNode] = new_cost\n",
    "                f_score = new_cost + heuristic1(pos[goal], pos[nextNode])\n",
    "                frontier.put((f_score, nextNode))\n",
    "                came_from[nextNode] = current\n",
    "    \n",
    "    return came_from, cost_so_far"
   ]
  },
  {
   "cell_type": "code",
   "execution_count": null,
   "metadata": {},
   "outputs": [],
   "source": [
    "a_star(G, 'S', 'G')"
   ]
  },
  {
   "cell_type": "markdown",
   "metadata": {},
   "source": [
    "- The codes in this notebook take insipiration from various sources. All codes are for educational purposes only and released under the CC1.0. "
   ]
  },
  {
   "cell_type": "code",
   "execution_count": null,
   "metadata": {},
   "outputs": [],
   "source": []
  }
 ],
 "metadata": {
  "kernelspec": {
   "display_name": "Python 3",
   "language": "python",
   "name": "python3"
  },
  "language_info": {
   "codemirror_mode": {
    "name": "ipython",
    "version": 3
   },
   "file_extension": ".py",
   "mimetype": "text/x-python",
   "name": "python",
   "nbconvert_exporter": "python",
   "pygments_lexer": "ipython3",
   "version": "3.7.3"
  }
 },
 "nbformat": 4,
 "nbformat_minor": 2
}
