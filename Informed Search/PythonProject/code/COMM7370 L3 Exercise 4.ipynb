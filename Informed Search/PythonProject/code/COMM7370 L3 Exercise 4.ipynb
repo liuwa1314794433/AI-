{
 "cells": [
  {
   "cell_type": "markdown",
   "metadata": {},
   "source": [
    "# COMM7370 AI Theories and Applications\n",
    "# Search Algorithms\n",
    "\n",
    "## Informed Search\n",
    "Implementation of the basic informed search algorithms using `NetworkX`library"
   ]
  },
  {
   "cell_type": "code",
   "execution_count": 1,
   "metadata": {},
   "outputs": [
    {
     "name": "stdout",
     "output_type": "stream",
     "text": [
      "Requirement already satisfied: networkx in c:\\users\\brix\\anaconda3\\lib\\site-packages (2.3)\n",
      "Requirement already satisfied: decorator>=4.3.0 in c:\\users\\brix\\anaconda3\\lib\\site-packages (from networkx) (4.4.0)\n",
      "Requirement already satisfied: matplotlib in c:\\users\\brix\\anaconda3\\lib\\site-packages (3.1.0)\n",
      "Requirement already satisfied: cycler>=0.10 in c:\\users\\brix\\anaconda3\\lib\\site-packages (from matplotlib) (0.10.0)\n",
      "Requirement already satisfied: kiwisolver>=1.0.1 in c:\\users\\brix\\anaconda3\\lib\\site-packages (from matplotlib) (1.1.0)\n",
      "Requirement already satisfied: pyparsing!=2.0.4,!=2.1.2,!=2.1.6,>=2.0.1 in c:\\users\\brix\\anaconda3\\lib\\site-packages (from matplotlib) (2.4.0)\n",
      "Requirement already satisfied: python-dateutil>=2.1 in c:\\users\\brix\\anaconda3\\lib\\site-packages (from matplotlib) (2.8.0)\n",
      "Requirement already satisfied: numpy>=1.11 in c:\\users\\brix\\anaconda3\\lib\\site-packages (from matplotlib) (1.16.4)\n",
      "Requirement already satisfied: six in c:\\users\\brix\\anaconda3\\lib\\site-packages (from cycler>=0.10->matplotlib) (1.12.0)\n",
      "Requirement already satisfied: setuptools in c:\\users\\brix\\anaconda3\\lib\\site-packages (from kiwisolver>=1.0.1->matplotlib) (41.0.1)\n",
      "Requirement already satisfied: pandas in c:\\users\\brix\\anaconda3\\lib\\site-packages (0.24.2)\n",
      "Requirement already satisfied: pytz>=2011k in c:\\users\\brix\\anaconda3\\lib\\site-packages (from pandas) (2019.1)\n",
      "Requirement already satisfied: python-dateutil>=2.5.0 in c:\\users\\brix\\anaconda3\\lib\\site-packages (from pandas) (2.8.0)\n",
      "Requirement already satisfied: numpy>=1.12.0 in c:\\users\\brix\\anaconda3\\lib\\site-packages (from pandas) (1.16.4)\n",
      "Requirement already satisfied: six>=1.5 in c:\\users\\brix\\anaconda3\\lib\\site-packages (from python-dateutil>=2.5.0->pandas) (1.12.0)\n",
      "Requirement already satisfied: numpy in c:\\users\\brix\\anaconda3\\lib\\site-packages (1.16.4)\n"
     ]
    }
   ],
   "source": [
    "# Install NetworkX, Matplotlib, Pandas, Numpy using pip package in the current Jupyter kernel\n",
    "import sys\n",
    "!{sys.executable} -m pip install networkx\n",
    "!{sys.executable} -m pip install matplotlib\n",
    "!{sys.executable} -m pip install pandas\n",
    "!{sys.executable} -m pip install numpy"
   ]
  },
  {
   "cell_type": "markdown",
   "metadata": {},
   "source": [
    "## Using our algorithm"
   ]
  },
  {
   "cell_type": "markdown",
   "metadata": {},
   "source": [
    "## Travelling in Romania\n",
    "Import the adjacency matrix from CSV file. Includes the distances between the cities directly connected in the map."
   ]
  },
  {
   "cell_type": "code",
   "execution_count": 3,
   "metadata": {},
   "outputs": [],
   "source": [
    "import pandas as pd\n",
    "import numpy as np\n",
    "import networkx as nx\n",
    "import matplotlib.pyplot as plt\n",
    "%matplotlib inline\n",
    "import warnings\n",
    "warnings.filterwarnings(\"ignore\", category=UserWarning)\n",
    "\n",
    "dfRomania = pd.read_csv('../data/' + 'romania.csv')"
   ]
  },
  {
   "cell_type": "markdown",
   "metadata": {},
   "source": [
    "Change NA to 0, needed for NetworkX graph."
   ]
  },
  {
   "cell_type": "code",
   "execution_count": 4,
   "metadata": {},
   "outputs": [],
   "source": [
    "dfRomania.fillna(0, inplace=True)\n",
    "dfRomania.set_index('city', inplace = True)"
   ]
  },
  {
   "cell_type": "markdown",
   "metadata": {},
   "source": [
    "Convert Pandas DataFrame to NetworkX Graph"
   ]
  },
  {
   "cell_type": "code",
   "execution_count": 5,
   "metadata": {},
   "outputs": [],
   "source": [
    "romaniaMap = nx.from_pandas_adjacency(dfRomania, nx.Graph)"
   ]
  },
  {
   "cell_type": "markdown",
   "metadata": {},
   "source": [
    "Display the roadmap"
   ]
  },
  {
   "cell_type": "code",
   "execution_count": 6,
   "metadata": {
    "scrolled": true
   },
   "outputs": [
    {
     "data": {
      "image/png": "[encoded data removed]",
      "text/plain": [
       "<Figure size 432x288 with 1 Axes>"
      ]
     },
     "metadata": {},
     "output_type": "display_data"
    }
   ],
   "source": [
    "layout=nx.spring_layout(romaniaMap)\n",
    "nx.draw_networkx(romaniaMap, layout, with_labels=True)"
   ]
  },
  {
   "cell_type": "markdown",
   "metadata": {},
   "source": [
    "### Heuristic function\n",
    "Specific for our problem. Straight line distance from the actual city to Bucharest."
   ]
  },
  {
   "cell_type": "code",
   "execution_count": 7,
   "metadata": {},
   "outputs": [],
   "source": [
    "def evalHeuristic(graph, node):\n",
    "    dfDist = pd.read_csv('../data/' + 'romaniaDist.csv')\n",
    "    dfDist.set_index('city', inplace=True)\n",
    "    return dfDist.at[node,'dist']"
   ]
  },
  {
   "cell_type": "markdown",
   "metadata": {},
   "source": [
    "## A* Search"
   ]
  },
  {
   "cell_type": "code",
   "execution_count": 10,
   "metadata": {},
   "outputs": [],
   "source": [
    "def fringeAddNode(fringeTemp, nodeName, heuristic):\n",
    "    \n",
    "    # Create a tuple (node name, heuristic value) and add it to the fringe\n",
    "    node = (nodeName, heuristic)\n",
    "    fringeTemp.append(node)\n",
    "    \n",
    "    return fringeTemp\n",
    "\n",
    "def fringeExtractBest(fringeTemp):\n",
    "    \n",
    "    # Order the fringe by decreasing heustic value (tup[1])\n",
    "    # Why Here?\n",
    "    fringe = fringeTemp.sort(key = lambda tup: tup[1], reverse = True)\n",
    "\n",
    "    # For debugging\n",
    "    print('Ordered Fringe:', fringeTemp)\n",
    "    \n",
    "    # Extract the node with best heuristic value (on list tail)\n",
    "    bestNode = fringeTemp.pop()\n",
    "    nodeName = bestNode[0]\n",
    "    nodeCost = bestNode[1]\n",
    "    \n",
    "    # Return the updated fringe, the extracted node name\n",
    "    return fringeTemp, nodeName, nodeCost\n",
    "\n",
    "def aStar(graph, startNode, endNode, maxSteps):\n",
    "    # Initialisation\n",
    "    # Use visited flag on each node to find if we should consider it for fringe expansion\n",
    "    fringe = []\n",
    "    currentNode = None\n",
    "    step = 0\n",
    "    costSoFar = 0\n",
    "    \n",
    "    # Update navigation startup values, including heuristic value\n",
    "    for node in graph.nodes:\n",
    "        graph.nodes[node]['parent'] = False\n",
    "        graph.nodes[node]['visited'] = False\n",
    "        # Give a value to the heuristic of each node\n",
    "        graph.nodes[node]['heuristic'] = evalHeuristic(graph, node)\n",
    "        # Set the cost so far of the node\n",
    "        graph.nodes[node]['costSoFar'] = 0\n",
    "    \n",
    "    # Setup starting point, root of the tree\n",
    "    fringe = fringeAddNode(fringe, startNode, graph.nodes[startNode]['heuristic'] )\n",
    "    graph.nodes[startNode]['parent'] = None\n",
    "    \n",
    "    # Execute until there are nodes to be visited\n",
    "    while fringe:\n",
    "        # For debugging\n",
    "        #print('Fringe:', fringe)\n",
    "        \n",
    "        # Extract the node with the best heuristic value \n",
    "        # from the fringe and visit the node\n",
    "        fringe, currentNode, currentCost = fringeExtractBest(fringe)\n",
    "        print(currentNode, \"->\")\n",
    "        \n",
    "        # Update step count\n",
    "        step += 1                \n",
    "\n",
    "        # Check goal\n",
    "        if not(currentNode == endNode): \n",
    "            # Check condition\n",
    "            if step <= maxSteps:\n",
    "                # Update the visited flag if needed\n",
    "                if(not graph.nodes[currentNode]['visited']):\n",
    "                    graph.nodes[currentNode]['visited'] = True\n",
    "\n",
    "                # Add to fringe neighbouring nodes, if not visited\n",
    "                for neighbour in graph.adj[currentNode]:\n",
    "                    if not graph.nodes[neighbour]['visited']:\n",
    "\n",
    "                        costSoFar = graph.nodes[currentNode]['costSoFar'] # Previous steps cost\n",
    "                        #print(currentNode, \" cost\", costSoFar)\n",
    "                        cost = graph[currentNode][neighbour]['weight'] # This step cost\n",
    "                        #print(neighbour, \"to reach cost\",cost)\n",
    "                        graph.nodes[neighbour]['costSoFar'] = costSoFar + cost # g(n) = previous node cost + this step\n",
    "                        strategyValue = graph.nodes[neighbour]['costSoFar'] + graph.nodes[neighbour]['heuristic']\n",
    "                        # f(n) = g(n) + h(n)\n",
    "                        #print('heuristic',graph.nodes[neighbour]['heuristic'])\n",
    "                        #print(currentNode, neighbour, strategyValue)\n",
    "\n",
    "                        fringe = fringeAddNode(fringe, neighbour, strategyValue)\n",
    "                        graph.nodes[neighbour]['parent'] = currentNode\n",
    "            else:\n",
    "                print(\" Execution ended without reaching the goal\")\n",
    "                break\n",
    "        else:\n",
    "            print(currentNode, \" *GOAL* - Number of steps:\", step, 'cost:', currentCost )\n",
    "            break\n",
    "        \n",
    "    print(\"- End\")"
   ]
  },
  {
   "cell_type": "markdown",
   "metadata": {},
   "source": [
    "### Visit Romania using A*\n",
    "From Arad to Bucharest"
   ]
  },
  {
   "cell_type": "code",
   "execution_count": 11,
   "metadata": {},
   "outputs": [
    {
     "data": {
      "text/plain": [
       "140.0"
      ]
     },
     "execution_count": 11,
     "metadata": {},
     "output_type": "execute_result"
    }
   ],
   "source": [
    "romaniaMap['Arad']['Sibiu']['weight']"
   ]
  },
  {
   "cell_type": "code",
   "execution_count": 12,
   "metadata": {
    "scrolled": false
   },
   "outputs": [
    {
     "name": "stdout",
     "output_type": "stream",
     "text": [
      "Ordered Fringe: [('Arad', 366)]\n",
      "Arad ->\n",
      "Ordered Fringe: [('Zerind', 449.0), ('Timisoara', 447.0), ('Sibiu', 393.0)]\n",
      "Sibiu ->\n",
      "Ordered Fringe: [('Oradea', 671.0), ('Zerind', 449.0), ('Timisoara', 447.0), ('Fagaras', 417.0), ('Rimnicu', 413.0)]\n",
      "Rimnicu ->\n",
      "Ordered Fringe: [('Oradea', 671.0), ('Craiova', 526.0), ('Zerind', 449.0), ('Timisoara', 447.0), ('Fagaras', 417.0), ('Pitesti', 415.0)]\n",
      "Pitesti ->\n",
      "Ordered Fringe: [('Oradea', 671.0), ('Craiova', 615.0), ('Craiova', 526.0), ('Zerind', 449.0), ('Timisoara', 447.0), ('Bucharest', 418.0), ('Fagaras', 417.0)]\n",
      "Fagaras ->\n",
      "Ordered Fringe: [('Oradea', 671.0), ('Craiova', 615.0), ('Craiova', 526.0), ('Bucharest', 450.0), ('Zerind', 449.0), ('Timisoara', 447.0), ('Bucharest', 418.0)]\n",
      "Bucharest ->\n",
      "Bucharest  *GOAL* - Number of steps: 6 cost: 418.0\n",
      "- End\n"
     ]
    }
   ],
   "source": [
    "aStar(romaniaMap, 'Arad', 'Bucharest', 100)"
   ]
  },
  {
   "cell_type": "markdown",
   "metadata": {},
   "source": [
    "# Exercise 4 (5%)\n",
    "At the last step of A* algortihm, it is difficult to understand which is the path that led to the solution.\n",
    "(as you can see Bucharest is present into the fringe with multiple values)\n",
    "\n",
    "Please modify the A* algorithm to show thefinal path to the solution. "
   ]
  },
  {
   "cell_type": "code",
   "execution_count": null,
   "metadata": {},
   "outputs": [],
   "source": []
  },
  {
   "cell_type": "markdown",
   "metadata": {},
   "source": [
    "- Course Instructor: Dr. Paolo Mengoni (Visiting Scholar, School of Communication, Hong Kong Baptist University) \n",
    "  - pmengoni@hkbu.edu.hk\n",
    "\n",
    "- The codes in this notebook take insipiration from various sources. All codes are for educational purposes only and released under the CC1.0. "
   ]
  },
  {
   "cell_type": "code",
   "execution_count": null,
   "metadata": {},
   "outputs": [],
   "source": []
  }
 ],
 "metadata": {
  "kernelspec": {
   "display_name": "Python 3",
   "language": "python",
   "name": "python3"
  },
  "language_info": {
   "codemirror_mode": {
    "name": "ipython",
    "version": 3
   },
   "file_extension": ".py",
   "mimetype": "text/x-python",
   "name": "python",
   "nbconvert_exporter": "python",
   "pygments_lexer": "ipython3",
   "version": "3.7.3"
  }
 },
 "nbformat": 4,
 "nbformat_minor": 2
}
